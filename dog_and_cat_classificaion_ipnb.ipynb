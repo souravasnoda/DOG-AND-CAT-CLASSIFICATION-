{
  "nbformat": 4,
  "nbformat_minor": 0,
  "metadata": {
    "colab": {
      "name": "dog and cat classificaion .ipnb",
      "provenance": [],
      "collapsed_sections": [],
      "mount_file_id": "1_huMIddkhK7bLsPquKDHWihTqKdTD4Tr",
      "authorship_tag": "ABX9TyPY2y4enQ0wGNlIPBCMtrgn",
      "include_colab_link": true
    },
    "kernelspec": {
      "name": "python3",
      "display_name": "Python 3"
    },
    "language_info": {
      "name": "python"
    }
  },
  "cells": [
    {
      "cell_type": "markdown",
      "metadata": {
        "id": "view-in-github",
        "colab_type": "text"
      },
      "source": [
        "<a href=\"https://colab.research.google.com/github/souravasnoda/DOG-AND-CAT-CLASSIFICATION-/blob/main/dog_and_cat_classificaion_ipnb.ipynb\" target=\"_parent\"><img src=\"https://colab.research.google.com/assets/colab-badge.svg\" alt=\"Open In Colab\"/></a>"
      ]
    },
    {
      "cell_type": "code",
      "metadata": {
        "id": "lvrGVnTZWk4E"
      },
      "source": [
        "import os"
      ],
      "execution_count": null,
      "outputs": []
    },
    {
      "cell_type": "code",
      "metadata": {
        "id": "3tC6P9NAWnv2"
      },
      "source": [
        "os.environ['KAGGLE_CONFIG_DIR'] = '/content'"
      ],
      "execution_count": null,
      "outputs": []
    },
    {
      "cell_type": "code",
      "metadata": {
        "id": "RMnNsd2_WoD7",
        "colab": {
          "base_uri": "https://localhost:8080/"
        },
        "outputId": "7005149d-6439-4716-e2c1-5b1ad166c5ff"
      },
      "source": [
        "!kaggle competitions download -c dogs-vs-cats"
      ],
      "execution_count": null,
      "outputs": [
        {
          "output_type": "stream",
          "text": [
            "Warning: Your Kaggle API key is readable by other users on this system! To fix this, you can run 'chmod 600 /content/kaggle.json'\n",
            "Warning: Looks like you're using an outdated API Version, please consider updating (server 1.5.12 / client 1.5.4)\n",
            "Downloading train.zip to /content\n",
            " 98% 533M/543M [00:04<00:00, 136MB/s]\n",
            "100% 543M/543M [00:04<00:00, 125MB/s]\n",
            "Downloading test1.zip to /content\n",
            " 95% 258M/271M [00:02<00:00, 136MB/s]\n",
            "100% 271M/271M [00:02<00:00, 123MB/s]\n",
            "Downloading sampleSubmission.csv to /content\n",
            "  0% 0.00/86.8k [00:00<?, ?B/s]\n",
            "100% 86.8k/86.8k [00:00<00:00, 91.6MB/s]\n"
          ],
          "name": "stdout"
        }
      ]
    },
    {
      "cell_type": "code",
      "metadata": {
        "id": "x1hMvP13I8Kb"
      },
      "source": [
        "import pandas as pd"
      ],
      "execution_count": null,
      "outputs": []
    },
    {
      "cell_type": "code",
      "metadata": {
        "id": "JayUqDIqWnL7",
        "colab": {
          "base_uri": "https://localhost:8080/",
          "height": 129
        },
        "outputId": "6fcf4c2b-d4b8-4a8b-e75b-1d96b172ed92"
      },
      "source": [
        ""
      ],
      "execution_count": null,
      "outputs": [
        {
          "output_type": "error",
          "ename": "SyntaxError",
          "evalue": "ignored",
          "traceback": [
            "\u001b[0;36m  File \u001b[0;32m\"<ipython-input-2-945d01f21473>\"\u001b[0;36m, line \u001b[0;32m1\u001b[0m\n\u001b[0;31m    interval = setInterval(function() {\u001b[0m\n\u001b[0m                                      ^\u001b[0m\n\u001b[0;31mSyntaxError\u001b[0m\u001b[0;31m:\u001b[0m invalid syntax\n"
          ]
        }
      ]
    },
    {
      "cell_type": "code",
      "metadata": {
        "id": "jiRjpRAA4HCT"
      },
      "source": [
        "from matplotlib import pyplot as plt\n",
        "from matplotlib.image import imread\n",
        "import cv2\n",
        "import os \n",
        "import random\n",
        "import pickle\n",
        "import numpy as np"
      ],
      "execution_count": null,
      "outputs": []
    },
    {
      "cell_type": "code",
      "metadata": {
        "id": "AenaqEh1ofnH"
      },
      "source": [
        "directory = r'/content'\n",
        "categories = ['train','test1']\n"
      ],
      "execution_count": null,
      "outputs": []
    },
    {
      "cell_type": "code",
      "metadata": {
        "id": "DBIPI-f17sTN"
      },
      "source": [
        "!unzip \\*.zip && rm *.zip\n"
      ],
      "execution_count": null,
      "outputs": []
    },
    {
      "cell_type": "code",
      "metadata": {
        "id": "-kYIGYv3TjcT"
      },
      "source": [
        "img_size  = 100\n",
        "\n",
        "data = []\n",
        "\n",
        "for category in categories:\n",
        "    folder = os.path.join(directory,category)\n",
        "    label = categories.index(category)\n",
        "    for img in os.listdir(folder):#txt files in train\n",
        "        try:\n",
        "            img_path = os.path.join(folder, img)\n",
        "            img_arr = cv2.imread(img_path)\n",
        "            img_arr = cv2.resize(img_arr, (img_size, img_size))\n",
        "            #plt.imshow(img_arr)\n",
        "            data.append([img_arr, label])\n",
        "        except:\n",
        "            continue\n",
        "                \n",
        "        "
      ],
      "execution_count": null,
      "outputs": []
    },
    {
      "cell_type": "code",
      "metadata": {
        "id": "v1b8k_OVf2QF",
        "colab": {
          "base_uri": "https://localhost:8080/"
        },
        "outputId": "b01b3165-c8b3-47b5-b2ba-0f7a431c3784"
      },
      "source": [
        "len(data)"
      ],
      "execution_count": null,
      "outputs": [
        {
          "output_type": "execute_result",
          "data": {
            "text/plain": [
              "37500"
            ]
          },
          "metadata": {
            "tags": []
          },
          "execution_count": 10
        }
      ]
    },
    {
      "cell_type": "code",
      "metadata": {
        "id": "qLlJ2tS6yQmJ"
      },
      "source": [
        ""
      ],
      "execution_count": null,
      "outputs": []
    },
    {
      "cell_type": "code",
      "metadata": {
        "id": "n6kaIG97T9me"
      },
      "source": [
        "random.shuffle(data)"
      ],
      "execution_count": null,
      "outputs": []
    },
    {
      "cell_type": "code",
      "metadata": {
        "id": "CMIM1QE9wLf9"
      },
      "source": [
        "X = []\n",
        "Y = []\n",
        "for features,label in data:\n",
        "  X.append(features)\n",
        "  Y.append(label)\n",
        "    \n",
        "                "
      ],
      "execution_count": null,
      "outputs": []
    },
    {
      "cell_type": "code",
      "metadata": {
        "id": "oZTKQWpLbdfh"
      },
      "source": [
        "x = np.array(X)\n",
        "y = np.array(Y)"
      ],
      "execution_count": null,
      "outputs": []
    },
    {
      "cell_type": "code",
      "metadata": {
        "id": "SlMe2lwVp5gl"
      },
      "source": [
        "x = x/255"
      ],
      "execution_count": null,
      "outputs": []
    },
    {
      "cell_type": "code",
      "metadata": {
        "id": "K5Y1_wjUrFsL"
      },
      "source": [
        "from keras.models import Sequential\n",
        "from keras.layers import Conv2D,MaxPooling2D,Flatten,Dense"
      ],
      "execution_count": null,
      "outputs": []
    },
    {
      "cell_type": "code",
      "metadata": {
        "colab": {
          "base_uri": "https://localhost:8080/"
        },
        "id": "rsgTMK4GtTvf",
        "outputId": "64f68a41-78c9-4227-b50b-65915a21d1d5"
      },
      "source": [
        "x.shape"
      ],
      "execution_count": null,
      "outputs": [
        {
          "output_type": "execute_result",
          "data": {
            "text/plain": [
              "(37500, 100, 100, 3)"
            ]
          },
          "metadata": {
            "tags": []
          },
          "execution_count": 16
        }
      ]
    },
    {
      "cell_type": "code",
      "metadata": {
        "id": "USr_j7yxr_qQ"
      },
      "source": [
        "model = Sequential()\n",
        "model.add(Conv2D(64,(3,3),activation = 'relu'))\n",
        "model.add(MaxPooling2D((2,2)))\n",
        "\n",
        "\n",
        "model.add(Conv2D(64,(3,3),activation = 'relu'))\n",
        "model.add(MaxPooling2D((2,2)))\n",
        "\n",
        "model.add(Flatten())\n",
        "\n",
        "model.add(Dense(128,input_shape = x.shape[1:],activation='relu'))#we have 37500 images with  shape of 100,100,3 now we have to \n",
        "#select shape of 1 image to add in dense layer\n",
        "\n",
        "model.add(Dense(2,activation='softmax'))#output function to get 2 different output"
      ],
      "execution_count": null,
      "outputs": []
    },
    {
      "cell_type": "code",
      "metadata": {
        "id": "bNjMNRvot-9c"
      },
      "source": [
        "model.compile(optimizer = 'adam',loss = 'sparse_categorical_crossentropy',metrics = ['accuracz'])"
      ],
      "execution_count": null,
      "outputs": []
    },
    {
      "cell_type": "code",
      "metadata": {
        "id": "KMb9zOzp2ltN"
      },
      "source": [
        "x.astype('int')"
      ],
      "execution_count": null,
      "outputs": []
    },
    {
      "cell_type": "code",
      "metadata": {
        "colab": {
          "base_uri": "https://localhost:8080/"
        },
        "id": "VpcPHKj93FUV",
        "outputId": "00bd276e-cb0d-410c-f4be-ed0337277c6e"
      },
      "source": [
        "y.astype(int)"
      ],
      "execution_count": null,
      "outputs": [
        {
          "output_type": "execute_result",
          "data": {
            "text/plain": [
              "array([0, 0, 0, ..., 0, 0, 0])"
            ]
          },
          "metadata": {
            "tags": []
          },
          "execution_count": 18
        }
      ]
    },
    {
      "cell_type": "code",
      "metadata": {
        "colab": {
          "base_uri": "https://localhost:8080/"
        },
        "id": "1gLpzWdF3J6E",
        "outputId": "005af953-471f-4620-c3ed-6c3ea0cfb7f7"
      },
      "source": [
        "x.dtype"
      ],
      "execution_count": null,
      "outputs": [
        {
          "output_type": "execute_result",
          "data": {
            "text/plain": [
              "dtype('uint8')"
            ]
          },
          "metadata": {
            "tags": []
          },
          "execution_count": 20
        }
      ]
    },
    {
      "cell_type": "code",
      "metadata": {
        "id": "YGV_xZZeuoCr"
      },
      "source": [
        "model.fit(x,y,epochs=5,validation_split=0.1)#10% of dataset is for validation set"
      ],
      "execution_count": null,
      "outputs": []
    },
    {
      "cell_type": "code",
      "metadata": {
        "id": "F00jNshsu_qK"
      },
      "source": [
        ""
      ],
      "execution_count": null,
      "outputs": []
    }
  ]
}